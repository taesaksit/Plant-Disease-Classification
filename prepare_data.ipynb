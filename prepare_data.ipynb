{
 "cells": [
  {
   "cell_type": "code",
   "execution_count": 21,
   "id": "085c9e4e-056c-443d-b85c-98bee81f4771",
   "metadata": {},
   "outputs": [],
   "source": [
    "import os \n",
    "import numpy as np\n",
    "import random\n",
    "import pickle\n",
    "from tensorflow.keras.preprocessing.image import load_img , img_to_array"
   ]
  },
  {
   "cell_type": "code",
   "execution_count": 17,
   "id": "db0beafe-7ad8-4567-963a-8f829d902bb0",
   "metadata": {},
   "outputs": [
    {
     "name": "stdout",
     "output_type": "stream",
     "text": [
      "1Grape_Black_rot\n",
      "2Grape_Esca_(Black_Measles)\n",
      "3Grape_Leaf_blight_(Isariopsis_Leaf_Spot)\n",
      "4Grape_healthy\n"
     ]
    }
   ],
   "source": [
    "directory = 'image/'\n",
    "categories = ['1Grape_Black_rot' , '2Grape_Esca_(Black_Measles)','3Grape_Leaf_blight_(Isariopsis_Leaf_Spot)','4Grape_healthy']\n",
    "training_data = []\n",
    "\n",
    "for category in os.listdir(directory):\n",
    "    print(category)\n",
    "    path = os.path.join(directory , category)\n",
    "    class_num = categories.index(category)\n",
    " \n",
    "    for img in os.listdir(path):\n",
    "    \n",
    "        try:\n",
    "            image_path = os.path.join(path , img)\n",
    "            image = load_img(image_path , target_size=(128,128))\n",
    "            image_array = img_to_array(image)\n",
    "            training_data.append([image_array,class_num])\n",
    "\n",
    "        except Exception as e:\n",
    "            print(e)"
   ]
  },
  {
   "cell_type": "code",
   "execution_count": 19,
   "id": "474a93bd-8fed-480b-b999-ac55420d0ea4",
   "metadata": {},
   "outputs": [],
   "source": [
    "# Shuffle data\n",
    "random.shuffle(training_data)\n",
    "x = []\n",
    "y = []\n",
    "for feature , label in training_data:\n",
    "    x.append(feature)\n",
    "    y.append(label)"
   ]
  },
  {
   "cell_type": "code",
   "execution_count": 20,
   "id": "86adee86-de65-45c1-a610-a5db4b21557e",
   "metadata": {},
   "outputs": [],
   "source": [
    "# encoding label\n",
    "import tensorflow as tf\n",
    "onehot_tensor = tf.keras.utils.to_categorical(np.array(y))"
   ]
  },
  {
   "cell_type": "code",
   "execution_count": 22,
   "id": "623c8d48-c924-4f90-9fe2-d3bcc0d59e68",
   "metadata": {},
   "outputs": [],
   "source": [
    "# Save data\n",
    "\n",
    "pickle_out = open('feature_rgb.pickle','wb')\n",
    "pickle.dump(x , pickle_out)\n",
    "pickle_out.close()\n",
    "\n",
    "pickle_out = open('label_rgb.pickle','wb')\n",
    "pickle.dump(y , pickle_out)\n",
    "pickle_out.close()"
   ]
  }
 ],
 "metadata": {
  "kernelspec": {
   "display_name": "Python 3 (ipykernel)",
   "language": "python",
   "name": "python3"
  },
  "language_info": {
   "codemirror_mode": {
    "name": "ipython",
    "version": 3
   },
   "file_extension": ".py",
   "mimetype": "text/x-python",
   "name": "python",
   "nbconvert_exporter": "python",
   "pygments_lexer": "ipython3",
   "version": "3.9.19"
  }
 },
 "nbformat": 4,
 "nbformat_minor": 5
}
